{
 "cells": [
  {
   "cell_type": "code",
   "execution_count": 7,
   "id": "e75c5c42",
   "metadata": {},
   "outputs": [],
   "source": [
    "import pandas as pd\n",
    "import numpy as np\n",
    "\n",
    "df = pd.read_csv(\"coronanet_release_Italy.csv\")"
   ]
  },
  {
   "cell_type": "code",
   "execution_count": 1,
   "id": "d9d2555c",
   "metadata": {},
   "outputs": [
    {
     "data": {
      "text/plain": [
       "20"
      ]
     },
     "execution_count": 1,
     "metadata": {},
     "output_type": "execute_result"
    }
   ],
   "source": [
    "len(\"WIDJIWDNU1YDHSdhjsd\")\n"
   ]
  },
  {
   "cell_type": "code",
   "execution_count": 24,
   "id": "f3eb7ddd",
   "metadata": {},
   "outputs": [
    {
     "data": {
      "text/plain": [
       "['ISO_A2',\n",
       " 'ISO_A3',\n",
       " 'ISO_L2',\n",
       " 'city',\n",
       " 'compliance',\n",
       " 'correct_type',\n",
       " 'country',\n",
       " 'date_announced',\n",
       " 'date_end',\n",
       " 'date_start',\n",
       " 'date_updated',\n",
       " 'description',\n",
       " 'dist_index_country_rank',\n",
       " 'dist_index_high_est',\n",
       " 'dist_index_low_est',\n",
       " 'dist_index_med_est',\n",
       " 'domestic_policy',\n",
       " 'enforcer',\n",
       " 'entry_type',\n",
       " 'init_country_level',\n",
       " 'institution_status',\n",
       " 'link',\n",
       " 'policy_id',\n",
       " 'province',\n",
       " 'record_id',\n",
       " 'recorded_date',\n",
       " 'target_city',\n",
       " 'target_country',\n",
       " 'target_direction',\n",
       " 'target_geog_level',\n",
       " 'target_other',\n",
       " 'target_province',\n",
       " 'target_region',\n",
       " 'target_who_what',\n",
       " 'travel_mechanism',\n",
       " 'type',\n",
       " 'type_sub_cat',\n",
       " 'type_text',\n",
       " 'update_level',\n",
       " 'update_type']"
      ]
     },
     "execution_count": 24,
     "metadata": {},
     "output_type": "execute_result"
    }
   ],
   "source": [
    "sorted(df.columns)"
   ]
  },
  {
   "cell_type": "code",
   "execution_count": 31,
   "id": "b2c423fa",
   "metadata": {},
   "outputs": [
    {
     "data": {
      "text/plain": [
       "array([nan, 'Liguria', 'Latium', 'The Marches', 'Lombardy',\n",
       "       'Friuli Venezia Giulia', 'Pennsylvania'], dtype=object)"
      ]
     },
     "execution_count": 31,
     "metadata": {},
     "output_type": "execute_result"
    }
   ],
   "source": [
    "df[ df[\"ISO_L2\"].isnull()][\"province\"].unique()"
   ]
  },
  {
   "cell_type": "code",
   "execution_count": 6,
   "id": "475de96e",
   "metadata": {},
   "outputs": [
    {
     "data": {
      "text/plain": [
       "array([nan, 'Change of Policy', 'End of Policy'], dtype=object)"
      ]
     },
     "execution_count": 6,
     "metadata": {},
     "output_type": "execute_result"
    }
   ],
   "source": [
    "df[df[\"entry_type\"] == \"update\"][\"update_type\"].unique()"
   ]
  },
  {
   "cell_type": "code",
   "execution_count": 14,
   "id": "fb824eb2",
   "metadata": {},
   "outputs": [
    {
     "data": {
      "text/plain": [
       "array(['Closure and Regulation of Schools',\n",
       "       'External Border Restrictions', 'Health Resources',\n",
       "       'Internal Border Restrictions', 'Lockdown',\n",
       "       'Other Policy Not Listed Above', 'Quarantine',\n",
       "       'Restriction and Regulation of Businesses', 'Social Distancing'],\n",
       "      dtype=object)"
      ]
     },
     "execution_count": 14,
     "metadata": {},
     "output_type": "execute_result"
    }
   ],
   "source": [
    "df[df.date_end.isnull() & (df.entry_type == \"update\")  ][\"type\"].unique()"
   ]
  },
  {
   "cell_type": "code",
   "execution_count": 17,
   "id": "06d07842",
   "metadata": {},
   "outputs": [],
   "source": [
    "def aggr_policy(group):\n",
    "          group = group.sort_values(by=['date_start', 'date_announced', 'date_end'])\n",
    "          init = group[group['entry_type']=='new_entry']\n",
    "          for _, row in group.iterrows():\n",
    "            if row['entry_type'] == 'update':\n",
    "              if row['update_type'] == 'End of Policy':\n",
    "                if row['date_end'] is not None:\n",
    "                  init['date_end'] = row['date_end']\n",
    "                else:\n",
    "                  if row['date_start']>row['date_announced']:\n",
    "                    init['date_end'] = row['date_start']\n",
    "                  else:\n",
    "                    init['date_end'] = row['date_announced']\n",
    "                break\n",
    "              else:\n",
    "                if row['date_end'] is not None:\n",
    "                  init['date_end'] = row['date_end']\n",
    "          return init\n",
    "\n",
    "df = df.groupby('policy_id').apply(aggr_policy)"
   ]
  },
  {
   "cell_type": "code",
   "execution_count": 21,
   "id": "a92698e2",
   "metadata": {},
   "outputs": [
    {
     "data": {
      "text/plain": [
       "array(['Restriction and Regulation of Government Services',\n",
       "       'Social Distancing', 'Restriction and Regulation of Businesses',\n",
       "       'Health Resources',\n",
       "       'New Task Force, Bureau or Administrative Configuration',\n",
       "       'Quarantine', 'Closure and Regulation of Schools',\n",
       "       'Health Testing', 'Public Awareness Measures', 'Hygiene',\n",
       "       'Other Policy Not Listed Above', 'Health Monitoring',\n",
       "       'Internal Border Restrictions', 'External Border Restrictions',\n",
       "       'Restrictions of Mass Gatherings', 'Lockdown',\n",
       "       'Declaration of Emergency', 'Anti-Disinformation Measures'],\n",
       "      dtype=object)"
      ]
     },
     "execution_count": 21,
     "metadata": {},
     "output_type": "execute_result"
    }
   ],
   "source": [
    "df[df.date_end.isnull()  ][\"type\"].unique()"
   ]
  }
 ],
 "metadata": {
  "kernelspec": {
   "display_name": "Python 3",
   "language": "python",
   "name": "python3"
  },
  "language_info": {
   "codemirror_mode": {
    "name": "ipython",
    "version": 3
   },
   "file_extension": ".py",
   "mimetype": "text/x-python",
   "name": "python",
   "nbconvert_exporter": "python",
   "pygments_lexer": "ipython3",
   "version": "3.8.8"
  }
 },
 "nbformat": 4,
 "nbformat_minor": 5
}

{
 "cells": [
  {
   "cell_type": "code",
   "execution_count": 1,
   "id": "f374cadc",
   "metadata": {},
   "outputs": [],
   "source": [
    "import pandas as pd\n",
    "\n",
    "\n",
    "iso3_eu_df = pd.read_csv(\"iso3_eu.txt\",sep=\"\\t\")\n",
    "covid_df = pd.read_csv(\"jrc-covid-19-all-days-by-regions.csv\")\n",
    "\n"
   ]
  },
  {
   "cell_type": "code",
   "execution_count": 8,
   "id": "d437df66",
   "metadata": {},
   "outputs": [
    {
     "data": {
      "text/plain": [
       "0         False\n",
       "1         False\n",
       "2         False\n",
       "3         False\n",
       "4         False\n",
       "          ...  \n",
       "291527    False\n",
       "291528    False\n",
       "291529    False\n",
       "291530    False\n",
       "291531    False\n",
       "Name: iso3, Length: 291532, dtype: bool"
      ]
     },
     "execution_count": 8,
     "metadata": {},
     "output_type": "execute_result"
    }
   ],
   "source": [
    "covid_df[\"iso3\"].isin(iso3_eu_df.AUT.values.tolist())"
   ]
  },
  {
   "cell_type": "code",
   "execution_count": 10,
   "id": "b0e02861",
   "metadata": {},
   "outputs": [],
   "source": [
    "covid_df[covid_df[\"iso3\"].isin(iso3_eu_df.AUT.values.tolist()) ].to_csv(\"casi_jrc_26_07_2021.csv\")"
   ]
  },
  {
   "cell_type": "code",
   "execution_count": 1,
   "id": "2159c9c3",
   "metadata": {},
   "outputs": [],
   "source": [
    "from pyspark import SparkConf, SparkContext\n",
    "import sys\n",
    "if __name__ == \"__main__\":\n",
    "    conf = SparkConf().setAppName(\"Spark Application\")\n",
    "    sc = SparkContext.getOrCreate(conf=conf)\n",
    "\n",
    "    # Read the content of a log file\n",
    "    inputRDD = sc.textFile(\"log.txt\")\n",
    "\n",
    "    "
   ]
  }
 ],
 "metadata": {
  "kernelspec": {
   "display_name": "Python 3",
   "language": "python",
   "name": "python3"
  },
  "language_info": {
   "codemirror_mode": {
    "name": "ipython",
    "version": 3
   },
   "file_extension": ".py",
   "mimetype": "text/x-python",
   "name": "python",
   "nbconvert_exporter": "python",
   "pygments_lexer": "ipython3",
   "version": "3.8.8"
  }
 },
 "nbformat": 4,
 "nbformat_minor": 5
}
